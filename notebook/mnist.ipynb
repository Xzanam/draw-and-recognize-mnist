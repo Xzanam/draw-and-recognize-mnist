{
 "cells": [
  {
   "cell_type": "code",
   "execution_count": 30,
   "metadata": {},
   "outputs": [],
   "source": [
    "import torch \n",
    "import torch.nn as nn \n",
    "import matplotlib.pyplot as plt \n",
    "import numpy as np \n",
    "import torch.optim as optim \n",
    "from tqdm import tqdm"
   ]
  },
  {
   "cell_type": "code",
   "execution_count": 2,
   "metadata": {},
   "outputs": [
    {
     "name": "stdout",
     "output_type": "stream",
     "text": [
      "Using cuda device\n"
     ]
    }
   ],
   "source": [
    "device = (\n",
    "    \"cuda\"\n",
    "    if torch.cuda.is_available()\n",
    "    else \"mps\"\n",
    "    if torch.backends.mps.is_available()\n",
    "    else \"cpu\"\n",
    ")\n",
    "print(f\"Using {device} device\")"
   ]
  },
  {
   "cell_type": "markdown",
   "metadata": {
    "jp-MarkdownHeadingCollapsed": true
   },
   "source": [
    "## Prepare MNIST Data for Training"
   ]
  },
  {
   "cell_type": "code",
   "execution_count": 3,
   "metadata": {},
   "outputs": [],
   "source": [
    "from torchvision import datasets, transforms\n",
    "from torch.utils.data import DataLoader, Subset\n",
    "from sklearn.model_selection import train_test_split\n",
    "# Define the preprocessing transformation\n",
    "class BinaryTransform:\n",
    "    def __call__(self, x):\n",
    "        # Convert the image to a numpy array, normalize to [0, 1], and apply the threshold\n",
    "        x = np.array(x) / 255.0  # Normalize pixel values to [0, 1]\n",
    "        x = (x >= 0.4).astype(np.float32)  # Apply threshold to convert to binary (0s and 1s)\n",
    "        x = torch.from_numpy(x)  # Convert back to PyTorch tensor\n",
    "        return x.unsqueeze(0)  # for channel dimension ( 1, 28, 28)\n",
    "\n",
    "# Create the transform with binary conversion\n",
    "transform = transforms.Compose([\n",
    "    BinaryTransform(),  # Apply the custom binary transformation\n",
    "])\n",
    "# Load the MNIST dataset\n",
    "train_dataset = datasets.MNIST(root='mnist_data', train=True, download=True, transform=transform)\n",
    "test_dataset = datasets.MNIST(root='mnist_data', train=False, download=True, transform=transform)\n",
    "\n",
    "# Split the training dataset into training and validation sets\n",
    "train_size = int(0.8 * len(train_dataset))\n",
    "val_size = len(train_dataset) - train_size\n",
    "train_indices, val_indices = train_test_split(range(len(train_dataset)), test_size=0.2, random_state=42)\n",
    "\n",
    "train_subset = Subset(train_dataset, train_indices)\n",
    "val_subset = Subset(train_dataset, val_indices)\n",
    "\n",
    "train_loader = DataLoader(train_subset, batch_size=64, shuffle=True)\n",
    "val_loader = DataLoader(val_subset, batch_size=64, shuffle=False)\n",
    "test_loader = DataLoader(test_dataset, batch_size=64, shuffle=False)\n"
   ]
  },
  {
   "cell_type": "code",
   "execution_count": 4,
   "metadata": {},
   "outputs": [
    {
     "name": "stdout",
     "output_type": "stream",
     "text": [
      "Data shape: torch.Size([64, 1, 28, 28])\n",
      "Data type: torch.float32\n",
      "Label shape: torch.Size([64])\n"
     ]
    }
   ],
   "source": [
    "for data, label in train_loader:\n",
    "    print(\"Data shape:\", data.shape)  # Shape of the images (batch_size, channels, height, width)\n",
    "    print(\"Data type:\", data.dtype)  # Shape of the images (batch_size, channels, height, width)\n",
    "    print(\"Label shape:\", label.shape)  # Shape of the labels (batch_size,)\n",
    "    break  #"
   ]
  },
  {
   "cell_type": "code",
   "execution_count": 5,
   "metadata": {},
   "outputs": [
    {
     "data": {
      "text/plain": [
       "(Dataset MNIST\n",
       "     Number of datapoints: 60000\n",
       "     Root location: mnist_data\n",
       "     Split: Train\n",
       "     StandardTransform\n",
       " Transform: Compose(\n",
       "                <__main__.BinaryTransform object at 0x78bb31a5bc40>\n",
       "            ),\n",
       " Dataset MNIST\n",
       "     Number of datapoints: 10000\n",
       "     Root location: mnist_data\n",
       "     Split: Test\n",
       "     StandardTransform\n",
       " Transform: Compose(\n",
       "                <__main__.BinaryTransform object at 0x78bb31a5bc40>\n",
       "            ))"
      ]
     },
     "execution_count": 5,
     "metadata": {},
     "output_type": "execute_result"
    }
   ],
   "source": [
    "train_dataset, test_dataset"
   ]
  },
  {
   "cell_type": "code",
   "execution_count": 6,
   "metadata": {},
   "outputs": [
    {
     "data": {
      "text/plain": [
       "<torch.utils.data.dataloader.DataLoader at 0x78bb017568f0>"
      ]
     },
     "execution_count": 6,
     "metadata": {},
     "output_type": "execute_result"
    }
   ],
   "source": [
    "train_loader"
   ]
  },
  {
   "cell_type": "code",
   "execution_count": 7,
   "metadata": {},
   "outputs": [
    {
     "data": {
      "image/png": "[encoded data removed]",
      "text/plain": [
       "<Figure size 1200x200 with 5 Axes>"
      ]
     },
     "metadata": {},
     "output_type": "display_data"
    }
   ],
   "source": [
    "# Function to display a grid of images\n",
    "def show_images(images, labels, title=\"MNIST Images\"):\n",
    "    images = images.numpy()  # Convert torch tensor to NumPy array\n",
    "    fig, axes = plt.subplots(1, len(images), figsize=(12, 2))\n",
    "    for i, ax in enumerate(axes):\n",
    "        ax.imshow(np.squeeze(images[i]), cmap='gray')\n",
    "        ax.set_title(f\"Label: {labels[i].item()}\")\n",
    "        ax.axis('off')  # Hide axis\n",
    "    plt.show()\n",
    "\n",
    "# Get a batch of training data from the DataLoader\n",
    "dataiter = iter(train_loader)\n",
    "images, labels = next(dataiter)\n",
    "\n",
    "# Show the first 5 images\n",
    "show_images(images[:5], labels[:5])"
   ]
  },
  {
   "cell_type": "markdown",
   "metadata": {},
   "source": [
    "## Utility Functions"
   ]
  },
  {
   "cell_type": "markdown",
   "metadata": {},
   "source": [
    "### Train Loop"
   ]
  },
  {
   "cell_type": "code",
   "execution_count": 8,
   "metadata": {},
   "outputs": [],
   "source": [
    "import torch\n",
    "from tqdm import tqdm\n",
    "\n",
    "def train(model, criterion, optimizer, train_loader, val_loader, epochs=10, device='cuda'):\n",
    "    # Training and validation loop\n",
    "    train_losses = []\n",
    "    val_losses = []\n",
    "    val_accuracies = []\n",
    "    train_accuracies = []  # List to store train accuracies\n",
    "    \n",
    "    for epoch in range(epochs):  # Train for specified epochs\n",
    "        model.train()  # Set model to training mode\n",
    "        running_loss = 0.0\n",
    "        correct_train = 0\n",
    "        total_train = 0\n",
    "        \n",
    "        progress_bar = tqdm(train_loader, desc=f\"Epoch {epoch+1}/{epochs}\", unit=\"batch\")\n",
    "\n",
    "        for batch in progress_bar:\n",
    "            inputs, labels = batch[0].to(device), batch[1].to(device)\n",
    "            \n",
    "            optimizer.zero_grad()  # Zero the gradients\n",
    "            outputs = model(inputs)\n",
    "            loss = criterion(outputs, labels)\n",
    "            loss.backward()\n",
    "            optimizer.step()\n",
    "            \n",
    "            running_loss += loss.item()\n",
    "\n",
    "            # Calculate the number of correct predictions\n",
    "            _, predicted = torch.max(outputs, 1)\n",
    "            total_train += labels.size(0)\n",
    "            correct_train += (predicted == labels).sum().item()\n",
    "\n",
    "            progress_bar.set_postfix(loss=loss.item())  \n",
    "\n",
    "        # Compute average training loss and accuracy\n",
    "        avg_loss = running_loss / len(train_loader)\n",
    "        train_losses.append(avg_loss)\n",
    "        \n",
    "        train_accuracy = 100 * correct_train / total_train\n",
    "        train_accuracies.append(train_accuracy)\n",
    "\n",
    "        # Validation\n",
    "        model.eval()  # Set the model to evaluation mode\n",
    "        val_loss = 0.0\n",
    "        correct_val = 0\n",
    "        total_val = 0\n",
    "        \n",
    "        with torch.no_grad():\n",
    "            for batch in val_loader:\n",
    "                images, labels = batch[0].to(device), batch[1].to(device)\n",
    "                outputs = model(images)\n",
    "                loss = criterion(outputs, labels)\n",
    "                val_loss += loss.item()\n",
    "\n",
    "                # Get the predicted labels for validation\n",
    "                _, predicted = torch.max(outputs, 1)\n",
    "                total_val += labels.size(0)\n",
    "                correct_val += (predicted == labels).sum().item()\n",
    "\n",
    "        # Compute average validation loss and accuracy\n",
    "        avg_val_loss = val_loss / len(val_loader)\n",
    "        val_losses.append(avg_val_loss)\n",
    "        \n",
    "        val_accuracy = 100 * correct_val / total_val\n",
    "        val_accuracies.append(val_accuracy)\n",
    "\n",
    "        print(f\"Epoch [{epoch+1}/{epochs}], \"\n",
    "              f\"Train Loss: {avg_loss:.4f}, \"\n",
    "              f\"Validation Loss: {avg_val_loss:.4f}, \"\n",
    "              f\"Train Accuracy: {train_accuracy:.2f}%, \"\n",
    "              f\"Validation Accuracy: {val_accuracy:.2f}%\")\n",
    "\n",
    "    return train_losses,  val_losses, train_accuracies, val_accuracies\n"
   ]
  },
  {
   "cell_type": "markdown",
   "metadata": {},
   "source": [
    "### Plots and Evaluation"
   ]
  },
  {
   "cell_type": "code",
   "execution_count": 9,
   "metadata": {},
   "outputs": [],
   "source": [
    "# Plot training and validation loss curves\n",
    "\n",
    "def plot_losses(train_losses, val_losses):\n",
    "    plt.figure(figsize=(10, 5))\n",
    "    plt.plot(train_losses, label='Training Loss')\n",
    "    plt.plot(val_losses, label='Validation Loss')\n",
    "    plt.title('Training and Validation Loss')\n",
    "    plt.xlabel('Epochs')\n",
    "    plt.ylabel('Loss')\n",
    "    plt.legend()\n",
    "    plt.show()"
   ]
  },
  {
   "cell_type": "code",
   "execution_count": 10,
   "metadata": {},
   "outputs": [],
   "source": [
    "# Plot training and validation loss curves\n",
    "\n",
    "def plot_accuracy(train_accuracies, val_accuracies):\n",
    "    plt.figure(figsize=(10, 5))\n",
    "    plt.plot(train_accuracies, label='Training Loss')\n",
    "    plt.plot(val_accuracies, label='Validation Loss')\n",
    "    plt.title('Training and Validation Loss')\n",
    "    plt.xlabel('Epochs')\n",
    "    plt.ylabel('Loss')\n",
    "    plt.legend()\n",
    "    plt.show()"
   ]
  },
  {
   "cell_type": "code",
   "execution_count": 11,
   "metadata": {},
   "outputs": [],
   "source": [
    "import seaborn as sns\n",
    "from sklearn.metrics import confusion_matrix\n",
    "def plot_confusion_matrix(y_true, y_pred, classes):\n",
    "    cm = confusion_matrix(y_true, y_pred)\n",
    "    plt.figure(figsize=(10, 8))\n",
    "    sns.heatmap(cm, annot=True, fmt='d', cmap='Blues', \n",
    "                xticklabels=classes, yticklabels=classes)\n",
    "    plt.ylabel('True label')\n",
    "    plt.xlabel('Predicted label')\n",
    "    plt.title('Confusion Matrix')\n",
    "    plt.show()\n"
   ]
  },
  {
   "cell_type": "code",
   "execution_count": 12,
   "metadata": {},
   "outputs": [],
   "source": [
    "def evaluate_model(model, test_loader):\n",
    "    model.eval()\n",
    "    y_true = []\n",
    "    y_pred = []\n",
    "\n",
    "    with torch.no_grad():\n",
    "        for batch in test_loader:\n",
    "            images, labels = batch[0].to(device), batch[1].to(device)\n",
    "            outputs = model(images)\n",
    "            _, predicted = torch.max(outputs.data, 1)\n",
    "\n",
    "            y_true.extend(labels.cpu().numpy())\n",
    "            y_pred.extend(predicted.cpu().numpy())\n",
    "\n",
    "    return y_true, y_pred"
   ]
  },
  {
   "cell_type": "code",
   "execution_count": 13,
   "metadata": {},
   "outputs": [],
   "source": [
    "def test(model, test_loader):\n",
    "    model.eval()  # Set the model to evaluation mode\n",
    "    test_loss = 0.0\n",
    "    correct = 0\n",
    "\n",
    "    with torch.no_grad():\n",
    "        for batch in test_loader:\n",
    "            images, labels = batch[0].to(device), batch[1].to(device)\n",
    "            outputs = model(images)\n",
    "            loss = criterion(outputs, labels)\n",
    "            test_loss += loss.item()\n",
    "\n",
    "            # Get the predicted labels\n",
    "            _, predicted = torch.max(outputs, 1)\n",
    "            correct += (predicted == labels).sum().item()\n",
    "\n",
    "    # Compute average test loss and accuracy\n",
    "    avg_test_loss = test_loss / len(test_loader)\n",
    "    test_accuracy = correct / len(test_dataset)\n",
    "\n",
    "    print(f\"Test Loss: {avg_test_loss:.4f}, Test Accuracy: {test_accuracy:.4f}\")"
   ]
  },
  {
   "cell_type": "markdown",
   "metadata": {
    "jp-MarkdownHeadingCollapsed": true
   },
   "source": [
    "## Simple Feed Forward Neural Network"
   ]
  },
  {
   "cell_type": "code",
   "execution_count": 14,
   "metadata": {},
   "outputs": [],
   "source": [
    "class MNISTChar(nn.Module):\n",
    "    def __init__(self):\n",
    "        super().__init__()\n",
    "        self.flatten = nn.Flatten()\n",
    "        self.linear_relu_stack = nn.Sequential(\n",
    "            nn.Linear(28*28, 512), \n",
    "            nn.ReLU(), \n",
    "            nn.Linear(512, 512), \n",
    "            nn.ReLU(),\n",
    "            nn.Linear(512,10), \n",
    "        )\n",
    "\n",
    "    def forward(self, x):\n",
    "        x  = self.flatten(x)\n",
    "        logits = self.linear_relu_stack(x)\n",
    "        return logits \n",
    "\n",
    "\n"
   ]
  },
  {
   "cell_type": "code",
   "execution_count": 30,
   "metadata": {},
   "outputs": [],
   "source": [
    "\n",
    "model = MNISTChar().to(device)\n",
    "criterion = nn.CrossEntropyLoss()\n",
    "optimizer = optim.AdamW(model.parameters(), lr = 0.01)"
   ]
  },
  {
   "cell_type": "code",
   "execution_count": 31,
   "metadata": {},
   "outputs": [
    {
     "data": {
      "text/plain": [
       "MNISTChar(\n",
       "  (flatten): Flatten(start_dim=1, end_dim=-1)\n",
       "  (linear_relu_stack): Sequential(\n",
       "    (0): Linear(in_features=784, out_features=512, bias=True)\n",
       "    (1): ReLU()\n",
       "    (2): Linear(in_features=512, out_features=512, bias=True)\n",
       "    (3): ReLU()\n",
       "    (4): Linear(in_features=512, out_features=10, bias=True)\n",
       "  )\n",
       ")"
      ]
     },
     "execution_count": 31,
     "metadata": {},
     "output_type": "execute_result"
    }
   ],
   "source": [
    "model"
   ]
  },
  {
   "cell_type": "markdown",
   "metadata": {},
   "source": [
    "## Training Simple NN"
   ]
  },
  {
   "cell_type": "code",
   "execution_count": 32,
   "metadata": {},
   "outputs": [
    {
     "name": "stderr",
     "output_type": "stream",
     "text": [
      "Epoch 1/10: 100%|██████████| 750/750 [00:04<00:00, 182.27batch/s, loss=0.113] \n"
     ]
    },
    {
     "name": "stdout",
     "output_type": "stream",
     "text": [
      "Epoch [1/10], Train Loss: 0.2958, Train Accuracy: 91.33%, Validation Loss: 0.2178, Validation Accuracy: 93.71%\n"
     ]
    },
    {
     "name": "stderr",
     "output_type": "stream",
     "text": [
      "Epoch 2/10: 100%|██████████| 750/750 [00:04<00:00, 184.06batch/s, loss=0.0417] \n"
     ]
    },
    {
     "name": "stdout",
     "output_type": "stream",
     "text": [
      "Epoch [2/10], Train Loss: 0.1786, Train Accuracy: 95.07%, Validation Loss: 0.2128, Validation Accuracy: 94.30%\n"
     ]
    },
    {
     "name": "stderr",
     "output_type": "stream",
     "text": [
      "Epoch 3/10: 100%|██████████| 750/750 [00:04<00:00, 181.41batch/s, loss=0.11]   \n"
     ]
    },
    {
     "name": "stdout",
     "output_type": "stream",
     "text": [
      "Epoch [3/10], Train Loss: 0.1419, Train Accuracy: 95.92%, Validation Loss: 0.1791, Validation Accuracy: 95.38%\n"
     ]
    },
    {
     "name": "stderr",
     "output_type": "stream",
     "text": [
      "Epoch 4/10: 100%|██████████| 750/750 [00:04<00:00, 172.79batch/s, loss=0.287]  \n"
     ]
    },
    {
     "name": "stdout",
     "output_type": "stream",
     "text": [
      "Epoch [4/10], Train Loss: 0.1233, Train Accuracy: 96.48%, Validation Loss: 0.2386, Validation Accuracy: 94.01%\n"
     ]
    },
    {
     "name": "stderr",
     "output_type": "stream",
     "text": [
      "Epoch 5/10: 100%|██████████| 750/750 [00:04<00:00, 175.88batch/s, loss=0.0743] \n"
     ]
    },
    {
     "name": "stdout",
     "output_type": "stream",
     "text": [
      "Epoch [5/10], Train Loss: 0.1201, Train Accuracy: 96.65%, Validation Loss: 0.1585, Validation Accuracy: 96.15%\n"
     ]
    },
    {
     "name": "stderr",
     "output_type": "stream",
     "text": [
      "Epoch 6/10: 100%|██████████| 750/750 [00:04<00:00, 187.29batch/s, loss=0.00136]\n"
     ]
    },
    {
     "name": "stdout",
     "output_type": "stream",
     "text": [
      "Epoch [6/10], Train Loss: 0.1027, Train Accuracy: 97.16%, Validation Loss: 0.1757, Validation Accuracy: 95.88%\n"
     ]
    },
    {
     "name": "stderr",
     "output_type": "stream",
     "text": [
      "Epoch 7/10: 100%|██████████| 750/750 [00:03<00:00, 187.70batch/s, loss=0.121]   \n"
     ]
    },
    {
     "name": "stdout",
     "output_type": "stream",
     "text": [
      "Epoch [7/10], Train Loss: 0.0940, Train Accuracy: 97.36%, Validation Loss: 0.1849, Validation Accuracy: 95.67%\n"
     ]
    },
    {
     "name": "stderr",
     "output_type": "stream",
     "text": [
      "Epoch 8/10: 100%|██████████| 750/750 [00:04<00:00, 184.76batch/s, loss=0.102]   \n"
     ]
    },
    {
     "name": "stdout",
     "output_type": "stream",
     "text": [
      "Epoch [8/10], Train Loss: 0.0924, Train Accuracy: 97.39%, Validation Loss: 0.1647, Validation Accuracy: 95.76%\n"
     ]
    },
    {
     "name": "stderr",
     "output_type": "stream",
     "text": [
      "Epoch 9/10: 100%|██████████| 750/750 [00:04<00:00, 183.07batch/s, loss=0.0347]  \n"
     ]
    },
    {
     "name": "stdout",
     "output_type": "stream",
     "text": [
      "Epoch [9/10], Train Loss: 0.0953, Train Accuracy: 97.44%, Validation Loss: 0.2168, Validation Accuracy: 95.22%\n"
     ]
    },
    {
     "name": "stderr",
     "output_type": "stream",
     "text": [
      "Epoch 10/10: 100%|██████████| 750/750 [00:04<00:00, 185.66batch/s, loss=0.0436]  \n"
     ]
    },
    {
     "name": "stdout",
     "output_type": "stream",
     "text": [
      "Epoch [10/10], Train Loss: 0.0927, Train Accuracy: 97.55%, Validation Loss: 0.1787, Validation Accuracy: 95.68%\n"
     ]
    }
   ],
   "source": [
    "criterion = nn.CrossEntropyLoss()\n",
    "optimizer = optim.AdamW(model.parameters(), lr = 0.01)\n",
    "train_losses, val_losses,train_accuracies, val_accuracies = train(model, criterion, optimizer, train_loader, val_loader, epochs=10)\n"
   ]
  },
  {
   "cell_type": "code",
   "execution_count": 34,
   "metadata": {},
   "outputs": [
    {
     "data": {
      "image/png": "[encoded data removed]",
      "text/plain": [
       "<Figure size 1000x500 with 1 Axes>"
      ]
     },
     "metadata": {},
     "output_type": "display_data"
    }
   ],
   "source": [
    "plot_losses(train_losses, val_losses)"
   ]
  },
  {
   "cell_type": "markdown",
   "metadata": {},
   "source": [
    "## Model Evaluation - Feed Forward NN"
   ]
  },
  {
   "cell_type": "code",
   "execution_count": 35,
   "metadata": {},
   "outputs": [
    {
     "data": {
      "image/png": "[encoded data removed]",
      "text/plain": [
       "<Figure size 1000x800 with 2 Axes>"
      ]
     },
     "metadata": {},
     "output_type": "display_data"
    }
   ],
   "source": [
    "y_true, y_pred = evaluate_model(model, test_loader)\n",
    "classes = [str(i) for i in range(10)]  # Class names for MNIST (0-9)\n",
    "plot_confusion_matrix(y_true, y_pred, classes)"
   ]
  },
  {
   "cell_type": "code",
   "execution_count": 220,
   "metadata": {},
   "outputs": [
    {
     "name": "stdout",
     "output_type": "stream",
     "text": [
      "Test Loss: 0.1777, Test Accuracy: 0.9665\n"
     ]
    }
   ],
   "source": [
    "\n",
    "# Test the trained model\n",
    "test(model, test_loader)"
   ]
  },
  {
   "cell_type": "code",
   "execution_count": 222,
   "metadata": {},
   "outputs": [
    {
     "name": "stdout",
     "output_type": "stream",
     "text": [
      "Image shape: torch.Size([1, 1, 28, 28])\n",
      "Label: tensor(7)\n"
     ]
    }
   ],
   "source": [
    "# Assuming `dataloader` is your DataLoader object\n",
    "data_iter = iter(test_loader)\n",
    "\n",
    "# Get the first batch of images and labels\n",
    "images, labels = next(data_iter)\n",
    "\n",
    "# Extract the first image and its label from the batch\n",
    "single_image = images[0]\n",
    "single_label = labels[0]\n",
    "single_image = single_image.unsqueeze(0)\n",
    "# Display the shape of the image\n",
    "print(\"Image shape:\", single_image.shape)\n",
    "print(\"Label:\", single_label)\n"
   ]
  },
  {
   "cell_type": "code",
   "execution_count": 223,
   "metadata": {},
   "outputs": [],
   "source": [
    "output = model(single_image.to(device))"
   ]
  },
  {
   "cell_type": "code",
   "execution_count": 224,
   "metadata": {},
   "outputs": [
    {
     "data": {
      "text/plain": [
       "tensor([[-47.3343,  -9.8796,  -9.7418,   4.3937,   2.1390, -21.4263, -84.1637,\n",
       "          23.1598, -32.9354,   6.2891]], grad_fn=<AddmmBackward0>)"
      ]
     },
     "execution_count": 224,
     "metadata": {},
     "output_type": "execute_result"
    }
   ],
   "source": [
    "output"
   ]
  },
  {
   "cell_type": "code",
   "execution_count": 225,
   "metadata": {},
   "outputs": [],
   "source": [
    "# Export the model to TorchScript\n",
    "device = torch.device('cpu')\n",
    "model.to(device)\n",
    "example = torch.rand(1,1, 28, 28).to(device)\n",
    "model.eval()  # Set the model to evaluation mode\n",
    "scripted_model = torch.jit.trace(model,example)  # Use torch.jit.trace for tracing if needed\n",
    "scripted_model.save('mnist_model.pt')  # Save the model"
   ]
  },
  {
   "cell_type": "code",
   "execution_count": 226,
   "metadata": {},
   "outputs": [],
   "source": [
    "import pandas as pd\n",
    "import numpy as np\n",
    "\n",
    "# Read the data from the CSV file into a DataFrame\n",
    "im1 = pd.read_csv('matrix.csv', header=None)  # Use header=None to prevent the first row from being interpreted as column names\n",
    "\n",
    "# Convert the DataFrame to a NumPy array\n",
    "im1 = im1.to_numpy().flatten()  # Flatten to ensure it's a 1D array\n",
    "\n",
    "# Reshape the flattened array into a 28x28 matrix\n",
    "if im1.size == 28 * 28:  # Ensure the data has the correct size\n",
    "    im1 = im1.reshape(28, 28)  # Reshape into (1, 28, 28) format for further processing\n",
    "else:\n",
    "    print(f\"Error: Expected 784 values, but found {im1.size}.\")"
   ]
  },
  {
   "cell_type": "code",
   "execution_count": 227,
   "metadata": {},
   "outputs": [
    {
     "data": {
      "text/plain": [
       "(28, 28)"
      ]
     },
     "execution_count": 227,
     "metadata": {},
     "output_type": "execute_result"
    }
   ],
   "source": [
    "im1.shape"
   ]
  },
  {
   "cell_type": "code",
   "execution_count": 228,
   "metadata": {},
   "outputs": [
    {
     "data": {
      "image/png": "[encoded data removed]",
      "text/plain": [
       "<Figure size 640x480 with 1 Axes>"
      ]
     },
     "metadata": {},
     "output_type": "display_data"
    }
   ],
   "source": [
    "# Visualize the image using matplotlib\n",
    "plt.imshow(im1, cmap='gray')  # Use 'gray' colormap for grayscale images\n",
    "plt.title('28x28 Image Visualization')\n",
    "plt.axis('off')  # Hide axis ticks\n",
    "plt.show()  # Display the image"
   ]
  },
  {
   "cell_type": "markdown",
   "metadata": {},
   "source": [
    "## Convolutional NN"
   ]
  },
  {
   "cell_type": "code",
   "execution_count": 15,
   "metadata": {},
   "outputs": [],
   "source": [
    "import torch.nn.functional as F "
   ]
  },
  {
   "cell_type": "code",
   "execution_count": 16,
   "metadata": {},
   "outputs": [],
   "source": [
    "\n",
    "class Conv2D(nn.Module):\n",
    "    def __init__(self, in_channels, out_channels, kernel_size, stride=1, padding='same'):\n",
    "        \"\"\"\n",
    "        This function initializes the parameters for a conv2D layer\n",
    "\n",
    "        Parameters\n",
    "        ------------\n",
    "        in_channels : int\n",
    "        Number of channels in the input image\n",
    "\n",
    "        out_channels : int\n",
    "        Number of channels produced by the convolution\n",
    "\n",
    "        kernel_size : int or tuple\n",
    "        Size of the convolving kernel \n",
    "\n",
    "        stride : int or tuple\n",
    "        Stride of the convolution. Default: 1\n",
    "\n",
    "        padding: int, tuple or str\n",
    "        Padding added to all four sides of the input. Default: 'same'\n",
    "        \"\"\"\n",
    "        super(Conv2D, self).__init__()\n",
    "        self.in_channels = in_channels\n",
    "        self.out_channels = out_channels\n",
    "        self.kernel_size = (kernel_size, kernel_size) if isinstance(kernel_size, int) else kernel_size\n",
    "        self.stride = stride\n",
    "        self.padding = padding\n",
    "\n",
    "        self.weight = nn.Parameter(\n",
    "            torch.nn.init.xavier_uniform_(\n",
    "                torch.empty(\n",
    "                    (self.out_channels, self.in_channels, *self.kernel_size),\n",
    "                    requires_grad=True\n",
    "                )\n",
    "            )\n",
    "        )\n",
    "        self.bias = nn.Parameter(\n",
    "            torch.zeros((self.out_channels,), requires_grad=True)\n",
    "        )\n",
    "\n",
    "    def forward(self, x):\n",
    "        \"\"\"\n",
    "        This function performs convolution operation on the input\n",
    "        Parameters\n",
    "        ------------\n",
    "        x : tensor, float32\n",
    "        Input image to the convolution layer\n",
    "\n",
    "        Returns\n",
    "        ------------\n",
    "        x : tensor, float32\n",
    "        feature map output from the last layer\n",
    "        \"\"\"\n",
    "        x = F.conv2d(x, self.weight, self.bias, stride=self.stride, padding=self.padding)\n",
    "        x = F.relu(x)\n",
    "\n",
    "        return x"
   ]
  },
  {
   "cell_type": "code",
   "execution_count": 17,
   "metadata": {},
   "outputs": [],
   "source": [
    "class MaxPool2D(nn.Module):\n",
    "    def __init__(self, kernel_size, stride=None, padding=0):\n",
    "        \"\"\"\n",
    "        This function initializes the parameters for a maxpool layer\n",
    "\n",
    "        Parameters\n",
    "        ------------\n",
    "        kernel_size : int\n",
    "        window height and width for the maxpooling window\n",
    "\n",
    "        stride : int\n",
    "        the stride of the window. Default value is kernel_size\n",
    "\n",
    "        padding: int\n",
    "        implicit zero padding to be added on both sides\n",
    "        \"\"\"\n",
    "        super(MaxPool2D, self).__init__()\n",
    "        self.kernel_size = kernel_size\n",
    "        self.stride = kernel_size if stride is None else stride\n",
    "        self.padding = padding\n",
    "\n",
    "\n",
    "    def forward(self, x): \n",
    "        \"\"\"\n",
    "        This function performs max-pool operation on the input\n",
    "\n",
    "        Parameters\n",
    "        ------------\n",
    "        x : tensor, float32\n",
    "        Input image to the convolution layer\n",
    "\n",
    "        Returns\n",
    "        ------------\n",
    "        x : tensor, float32\n",
    "        max-pooled output from the last layer\n",
    "        \"\"\"\n",
    "        x = F.max_pool2d(x, kernel_size=self.kernel_size, stride=self.stride, padding=self.padding)\n",
    "        return x"
   ]
  },
  {
   "cell_type": "code",
   "execution_count": 18,
   "metadata": {},
   "outputs": [],
   "source": [
    "class Dense(nn.Module):\n",
    "    def __init__(self, in_features, out_features, activation = None):\n",
    "        \"\"\"\n",
    "        This function initializes the parameters for a dense layer\n",
    "        Parameters\n",
    "        ------------- \n",
    "        in_features : int\n",
    "        shape of the input to the dense layer\n",
    "\n",
    "        out_features : int\n",
    "        number of units in the dense layer\n",
    "        \"\"\"\n",
    "        super(Dense, self).__init__()\n",
    "        self.in_features = in_features\n",
    "        self.out_features =  out_features\n",
    "        self.activation = activation\n",
    "        \n",
    "        self.weight = nn.Parameter(\n",
    "            torch.nn.init.xavier_uniform_(\n",
    "                torch.empty(\n",
    "                    (self.in_features, self.out_features),\n",
    "                    requires_grad=True,\n",
    "                )\n",
    "            )\n",
    "        )\n",
    "        self.bias = nn.Parameter(\n",
    "            torch.zeros((self.out_features,), requires_grad=True)\n",
    "        )\n",
    "\n",
    "    def forward(self, x):\n",
    "        \"\"\"\n",
    "        This function performs dense operation on the input\n",
    "        Parameters\n",
    "        ------------\n",
    "        x : tensor, float32\n",
    "        Input flattened image to the convolution layer\n",
    "\n",
    "        Returns\n",
    "        ------------\n",
    "        x : tensor, float32\n",
    "        linear operation output from the last layer\n",
    "        \"\"\"\n",
    "        x = x @ self.weight + self.bias  # Supports batching\n",
    "        if self.activation is not None:\n",
    "            x = self.activation(x)\n",
    "        return x\n",
    "\n"
   ]
  },
  {
   "cell_type": "code",
   "execution_count": 19,
   "metadata": {},
   "outputs": [],
   "source": [
    "c1  = Conv2D(1, 16,3)\n",
    "c2 = Conv2D(16, 32 , 3)\n",
    "c3 = Conv2D(32, 64,3 )\n",
    "\n",
    "pool = MaxPool2D(2, 2)\n",
    "\n",
    "d1 = Dense(64 * 64 * 3 * 3, 128, activation=torch.nn.ReLU())\n",
    "d2 = Dense(128, 10)\n",
    "\n",
    "dropout = nn.Dropout(0.25)\n",
    "\n",
    "\n",
    "\n",
    "\n",
    "x = torch.randn(64, 1,  28 , 28 )\n",
    "\n",
    "x = F.relu(c1(x))\n",
    "x = pool(x)\n",
    "x = F.relu(c2(x))\n",
    "x = pool(x)\n",
    "x = F.relu(c3(x))\n",
    "x = pool(x)\n",
    "\n",
    "x = torch.flatten(x)\n",
    "x = d1(x)\n",
    "x = dropout(x)\n",
    "x = d2(x)\n",
    "\n",
    "\n"
   ]
  },
  {
   "cell_type": "code",
   "execution_count": 20,
   "metadata": {},
   "outputs": [
    {
     "data": {
      "text/plain": [
       "torch.Size([10])"
      ]
     },
     "execution_count": 20,
     "metadata": {},
     "output_type": "execute_result"
    }
   ],
   "source": [
    "x.shape"
   ]
  },
  {
   "cell_type": "code",
   "execution_count": 21,
   "metadata": {},
   "outputs": [
    {
     "data": {
      "text/plain": [
       "tensor([-0.0836, -0.0433,  0.3380, -0.2233,  0.0618,  0.1903, -0.1230, -0.3264,\n",
       "        -0.5059, -0.3723], grad_fn=<AddBackward0>)"
      ]
     },
     "execution_count": 21,
     "metadata": {},
     "output_type": "execute_result"
    }
   ],
   "source": [
    "x\n"
   ]
  },
  {
   "cell_type": "code",
   "execution_count": 22,
   "metadata": {},
   "outputs": [
    {
     "name": "stdout",
     "output_type": "stream",
     "text": [
      "<class 'torch.Tensor'>\n"
     ]
    }
   ],
   "source": [
    "print(type(x))"
   ]
  },
  {
   "cell_type": "code",
   "execution_count": 23,
   "metadata": {},
   "outputs": [
    {
     "name": "stderr",
     "output_type": "stream",
     "text": [
      "/tmp/ipykernel_9797/4097683080.py:1: UserWarning: Implicit dimension choice for softmax has been deprecated. Change the call to include dim=X as an argument.\n",
      "  p = F.softmax(x)\n"
     ]
    }
   ],
   "source": [
    "p = F.softmax(x)"
   ]
  },
  {
   "cell_type": "code",
   "execution_count": 24,
   "metadata": {},
   "outputs": [
    {
     "data": {
      "text/plain": [
       "tensor([0.0994, 0.1035, 0.1516, 0.0865, 0.1150, 0.1308, 0.0956, 0.0780, 0.0652,\n",
       "        0.0745], grad_fn=<SoftmaxBackward0>)"
      ]
     },
     "execution_count": 24,
     "metadata": {},
     "output_type": "execute_result"
    }
   ],
   "source": [
    "p"
   ]
  },
  {
   "cell_type": "code",
   "execution_count": 25,
   "metadata": {},
   "outputs": [],
   "source": [
    "class MNISTCNN(nn.Module):\n",
    "    def __init__(self):\n",
    "        super(MNISTCNN, self).__init__()\n",
    "        filter_dim = 3\n",
    "        in_channels = [1, 16, 32]\n",
    "        out_channels = [16, 32, 64]\n",
    "\n",
    "        dense_in_features = [64 * 3 * 3, 128]\n",
    "        dense_out_features = [128, 10]\n",
    "\n",
    "        self.c1 = Conv2D(in_channels[0], out_channels[0], filter_dim)\n",
    "        self.c2 = Conv2D(in_channels[1], out_channels[1], filter_dim)\n",
    "        self.c3 = Conv2D(in_channels[2], out_channels[2], filter_dim)\n",
    "        self.maxpool = MaxPool2D(2, 2)\n",
    "        self.d1 = Dense(dense_in_features[0], dense_out_features[0], activation=torch.nn.ReLU())\n",
    "        self.d2 = Dense(dense_in_features[1], dense_out_features[1], activation=torch.nn.ReLU())\n",
    "        self.dropout = nn.Dropout(p= 0.25)\n",
    "\n",
    "\n",
    "    def forward(self, x):\n",
    "\n",
    "        x = F.relu(self.c1(x))\n",
    "        x = self.maxpool(x)\n",
    "        x = F.relu(self.c2(x))\n",
    "        x = self.maxpool(x)\n",
    "        x = F.relu(self.c3(x))\n",
    "        x = self.maxpool(x)\n",
    "\n",
    "        x = torch.flatten(x, start_dim=1)\n",
    "        x = self.d1(x)\n",
    "        x = self.dropout(x)\n",
    "        x = self.d2(x)\n",
    "\n",
    "        return x\n",
    "        \n",
    "        "
   ]
  },
  {
   "cell_type": "code",
   "execution_count": 26,
   "metadata": {},
   "outputs": [
    {
     "data": {
      "text/plain": [
       "MNISTCNN(\n",
       "  (c1): Conv2D()\n",
       "  (c2): Conv2D()\n",
       "  (c3): Conv2D()\n",
       "  (maxpool): MaxPool2D()\n",
       "  (d1): Dense(\n",
       "    (activation): ReLU()\n",
       "  )\n",
       "  (d2): Dense(\n",
       "    (activation): ReLU()\n",
       "  )\n",
       "  (dropout): Dropout(p=0.25, inplace=False)\n",
       ")"
      ]
     },
     "execution_count": 26,
     "metadata": {},
     "output_type": "execute_result"
    }
   ],
   "source": [
    "model = MNISTCNN()\n",
    "model.to(device)"
   ]
  },
  {
   "cell_type": "code",
   "execution_count": 27,
   "metadata": {},
   "outputs": [],
   "source": [
    "dummy_input = torch.zeros(64, 1, 28, 28).to(device)\n",
    "dummy_output = model.forward(dummy_input)"
   ]
  },
  {
   "cell_type": "code",
   "execution_count": 28,
   "metadata": {},
   "outputs": [
    {
     "data": {
      "text/plain": [
       "torch.Size([64, 10])"
      ]
     },
     "execution_count": 28,
     "metadata": {},
     "output_type": "execute_result"
    }
   ],
   "source": [
    "dummy_output.shape"
   ]
  },
  {
   "cell_type": "markdown",
   "metadata": {},
   "source": [
    "## Training CNN"
   ]
  },
  {
   "cell_type": "code",
   "execution_count": 31,
   "metadata": {},
   "outputs": [
    {
     "name": "stderr",
     "output_type": "stream",
     "text": [
      "Epoch 1/15: 100%|██████████| 750/750 [00:04<00:00, 155.87batch/s, loss=0.697]\n"
     ]
    },
    {
     "name": "stdout",
     "output_type": "stream",
     "text": [
      "Epoch [1/15], Train Loss: 0.8401, Validation Loss: 0.5148, Train Accuracy: 68.45%, Validation Accuracy: 79.41%\n"
     ]
    },
    {
     "name": "stderr",
     "output_type": "stream",
     "text": [
      "Epoch 2/15: 100%|██████████| 750/750 [00:04<00:00, 158.20batch/s, loss=0.161] \n"
     ]
    },
    {
     "name": "stdout",
     "output_type": "stream",
     "text": [
      "Epoch [2/15], Train Loss: 0.3180, Validation Loss: 0.1174, Train Accuracy: 89.41%, Validation Accuracy: 96.94%\n"
     ]
    },
    {
     "name": "stderr",
     "output_type": "stream",
     "text": [
      "Epoch 3/15: 100%|██████████| 750/750 [00:04<00:00, 155.54batch/s, loss=0.0741] \n"
     ]
    },
    {
     "name": "stdout",
     "output_type": "stream",
     "text": [
      "Epoch [3/15], Train Loss: 0.1323, Validation Loss: 0.0837, Train Accuracy: 96.66%, Validation Accuracy: 97.88%\n"
     ]
    },
    {
     "name": "stderr",
     "output_type": "stream",
     "text": [
      "Epoch 4/15: 100%|██████████| 750/750 [00:04<00:00, 153.39batch/s, loss=0.0375] \n"
     ]
    },
    {
     "name": "stdout",
     "output_type": "stream",
     "text": [
      "Epoch [4/15], Train Loss: 0.1048, Validation Loss: 0.0992, Train Accuracy: 97.32%, Validation Accuracy: 97.47%\n"
     ]
    },
    {
     "name": "stderr",
     "output_type": "stream",
     "text": [
      "Epoch 5/15: 100%|██████████| 750/750 [00:04<00:00, 156.90batch/s, loss=0.263]  \n"
     ]
    },
    {
     "name": "stdout",
     "output_type": "stream",
     "text": [
      "Epoch [5/15], Train Loss: 0.1127, Validation Loss: 0.0858, Train Accuracy: 97.07%, Validation Accuracy: 97.81%\n"
     ]
    },
    {
     "name": "stderr",
     "output_type": "stream",
     "text": [
      "Epoch 6/15: 100%|██████████| 750/750 [00:04<00:00, 158.41batch/s, loss=0.0568]  \n"
     ]
    },
    {
     "name": "stdout",
     "output_type": "stream",
     "text": [
      "Epoch [6/15], Train Loss: 0.1047, Validation Loss: 0.0883, Train Accuracy: 97.40%, Validation Accuracy: 97.63%\n"
     ]
    },
    {
     "name": "stderr",
     "output_type": "stream",
     "text": [
      "Epoch 7/15: 100%|██████████| 750/750 [00:04<00:00, 157.42batch/s, loss=0.00397] \n"
     ]
    },
    {
     "name": "stdout",
     "output_type": "stream",
     "text": [
      "Epoch [7/15], Train Loss: 0.0985, Validation Loss: 0.1084, Train Accuracy: 97.41%, Validation Accuracy: 97.78%\n"
     ]
    },
    {
     "name": "stderr",
     "output_type": "stream",
     "text": [
      "Epoch 8/15: 100%|██████████| 750/750 [00:04<00:00, 155.57batch/s, loss=0.04]   \n"
     ]
    },
    {
     "name": "stdout",
     "output_type": "stream",
     "text": [
      "Epoch [8/15], Train Loss: 0.1083, Validation Loss: 0.0837, Train Accuracy: 97.18%, Validation Accuracy: 97.94%\n"
     ]
    },
    {
     "name": "stderr",
     "output_type": "stream",
     "text": [
      "Epoch 9/15: 100%|██████████| 750/750 [00:04<00:00, 155.43batch/s, loss=0.32]    \n"
     ]
    },
    {
     "name": "stdout",
     "output_type": "stream",
     "text": [
      "Epoch [9/15], Train Loss: 0.1008, Validation Loss: 0.1062, Train Accuracy: 97.42%, Validation Accuracy: 97.50%\n"
     ]
    },
    {
     "name": "stderr",
     "output_type": "stream",
     "text": [
      "Epoch 10/15: 100%|██████████| 750/750 [00:05<00:00, 148.24batch/s, loss=0.061]   \n"
     ]
    },
    {
     "name": "stdout",
     "output_type": "stream",
     "text": [
      "Epoch [10/15], Train Loss: 0.0936, Validation Loss: 0.0908, Train Accuracy: 97.57%, Validation Accuracy: 97.97%\n"
     ]
    },
    {
     "name": "stderr",
     "output_type": "stream",
     "text": [
      "Epoch 11/15: 100%|██████████| 750/750 [00:04<00:00, 156.72batch/s, loss=0.11]    \n"
     ]
    },
    {
     "name": "stdout",
     "output_type": "stream",
     "text": [
      "Epoch [11/15], Train Loss: 0.1021, Validation Loss: 0.1084, Train Accuracy: 97.47%, Validation Accuracy: 97.40%\n"
     ]
    },
    {
     "name": "stderr",
     "output_type": "stream",
     "text": [
      "Epoch 12/15: 100%|██████████| 750/750 [00:04<00:00, 155.67batch/s, loss=0.173]   \n"
     ]
    },
    {
     "name": "stdout",
     "output_type": "stream",
     "text": [
      "Epoch [12/15], Train Loss: 0.0956, Validation Loss: 0.1063, Train Accuracy: 97.55%, Validation Accuracy: 97.81%\n"
     ]
    },
    {
     "name": "stderr",
     "output_type": "stream",
     "text": [
      "Epoch 13/15: 100%|██████████| 750/750 [00:04<00:00, 158.51batch/s, loss=0.11]    \n"
     ]
    },
    {
     "name": "stdout",
     "output_type": "stream",
     "text": [
      "Epoch [13/15], Train Loss: 0.0916, Validation Loss: 0.0798, Train Accuracy: 97.69%, Validation Accuracy: 98.17%\n"
     ]
    },
    {
     "name": "stderr",
     "output_type": "stream",
     "text": [
      "Epoch 14/15: 100%|██████████| 750/750 [00:04<00:00, 156.21batch/s, loss=0.0625]  \n"
     ]
    },
    {
     "name": "stdout",
     "output_type": "stream",
     "text": [
      "Epoch [14/15], Train Loss: 0.0982, Validation Loss: 0.1191, Train Accuracy: 97.59%, Validation Accuracy: 97.27%\n"
     ]
    },
    {
     "name": "stderr",
     "output_type": "stream",
     "text": [
      "Epoch 15/15: 100%|██████████| 750/750 [00:04<00:00, 156.77batch/s, loss=0.000868]\n"
     ]
    },
    {
     "name": "stdout",
     "output_type": "stream",
     "text": [
      "Epoch [15/15], Train Loss: 0.0927, Validation Loss: 0.0971, Train Accuracy: 97.73%, Validation Accuracy: 97.92%\n"
     ]
    }
   ],
   "source": [
    "criterion = nn.CrossEntropyLoss()\n",
    "optimizer = optim.AdamW(model.parameters(), lr = 0.01)\n",
    "train_losses, val_losses,train_accuracies, val_accuracies = train(model, criterion, optimizer, train_loader, val_loader, epochs=15)\n"
   ]
  },
  {
   "cell_type": "code",
   "execution_count": 32,
   "metadata": {},
   "outputs": [
    {
     "data": {
      "image/png": "[encoded data removed]",
      "text/plain": [
       "<Figure size 1000x500 with 1 Axes>"
      ]
     },
     "metadata": {},
     "output_type": "display_data"
    }
   ],
   "source": [
    "plot_losses(train_losses, val_losses)"
   ]
  },
  {
   "cell_type": "code",
   "execution_count": 33,
   "metadata": {},
   "outputs": [
    {
     "data": {
      "image/png": "[encoded data removed]",
      "text/plain": [
       "<Figure size 1000x500 with 1 Axes>"
      ]
     },
     "metadata": {},
     "output_type": "display_data"
    }
   ],
   "source": [
    "plot_accuracy(train_accuracies, val_accuracies)"
   ]
  },
  {
   "cell_type": "markdown",
   "metadata": {},
   "source": [
    "## Model Evaluation - MINSTCNN"
   ]
  },
  {
   "cell_type": "code",
   "execution_count": 34,
   "metadata": {},
   "outputs": [
    {
     "data": {
      "image/png": "[encoded data removed]",
      "text/plain": [
       "<Figure size 1000x800 with 2 Axes>"
      ]
     },
     "metadata": {},
     "output_type": "display_data"
    }
   ],
   "source": [
    "y_true, y_pred = evaluate_model(model, test_loader)\n",
    "classes = [str(i) for i in range(10)]  # Class names for MNIST (0-9)\n",
    "plot_confusion_matrix(y_true, y_pred, classes)"
   ]
  },
  {
   "cell_type": "code",
   "execution_count": 35,
   "metadata": {},
   "outputs": [
    {
     "name": "stdout",
     "output_type": "stream",
     "text": [
      "Test Loss: 0.0743, Test Accuracy: 0.9824\n"
     ]
    }
   ],
   "source": [
    "# Test the trained model\n",
    "test(model, test_loader)"
   ]
  },
  {
   "cell_type": "code",
   "execution_count": 159,
   "metadata": {},
   "outputs": [
    {
     "name": "stdout",
     "output_type": "stream",
     "text": [
      "Image shape: torch.Size([1, 1, 28, 28])\n",
      "Label: tensor(7)\n"
     ]
    }
   ],
   "source": [
    "# Assuming `dataloader` is your DataLoader object\n",
    "data_iter = iter(test_loader)\n",
    "\n",
    "# Get the first batch of images and labels\n",
    "images, labels = next(data_iter)\n",
    "\n",
    "# Extract the first image and its label from the batch\n",
    "single_image = images[0]\n",
    "single_label = labels[0]\n",
    "single_image = single_image.unsqueeze(0)\n",
    "# Display the shape of the image\n",
    "print(\"Image shape:\", single_image.shape)\n",
    "print(\"Label:\", single_label)\n"
   ]
  },
  {
   "cell_type": "code",
   "execution_count": 160,
   "metadata": {},
   "outputs": [],
   "source": [
    "model.eval() \n",
    "with torch.no_grad():\n",
    "    output = model(single_image.to(device)) "
   ]
  },
  {
   "cell_type": "code",
   "execution_count": 161,
   "metadata": {},
   "outputs": [
    {
     "data": {
      "text/plain": [
       "tensor([[ 0.0000,  0.0000,  0.0000,  0.0000,  0.0000,  0.0000,  0.0000, 25.4579,\n",
       "          0.0000,  0.0000]], device='cuda:0')"
      ]
     },
     "execution_count": 161,
     "metadata": {},
     "output_type": "execute_result"
    }
   ],
   "source": [
    "output"
   ]
  },
  {
   "cell_type": "code",
   "execution_count": 36,
   "metadata": {},
   "outputs": [],
   "source": [
    "# Export the model to TorchScript\n",
    "device = torch.device('cpu')\n",
    "model.to(device)\n",
    "example = torch.rand(1, 1,28, 28).to(device)\n",
    "model.eval()  # Set the model to evaluation mode\n",
    "scripted_model = torch.jit.trace(model,example)  # Use torch.jit.trace for tracing if needed\n",
    "scripted_model.save('mnist_CNN.pt')  # Save the model"
   ]
  },
  {
   "cell_type": "code",
   "execution_count": 37,
   "metadata": {},
   "outputs": [
    {
     "data": {
      "text/plain": [
       "'2.4.1'"
      ]
     },
     "execution_count": 37,
     "metadata": {},
     "output_type": "execute_result"
    }
   ],
   "source": [
    "torch.__version__"
   ]
  },
  {
   "cell_type": "code",
   "execution_count": null,
   "metadata": {},
   "outputs": [],
   "source": []
  }
 ],
 "metadata": {
  "kernelspec": {
   "display_name": "tensortorch",
   "language": "python",
   "name": "python3"
  },
  "language_info": {
   "codemirror_mode": {
    "name": "ipython",
    "version": 3
   },
   "file_extension": ".py",
   "mimetype": "text/x-python",
   "name": "python",
   "nbconvert_exporter": "python",
   "pygments_lexer": "ipython3",
   "version": "3.10.15"
  }
 },
 "nbformat": 4,
 "nbformat_minor": 4
}
